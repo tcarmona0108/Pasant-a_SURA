{
 "cells": [
  {
   "cell_type": "code",
   "execution_count": 3,
   "metadata": {},
   "outputs": [
    {
     "name": "stderr",
     "output_type": "stream",
     "text": [
      "c:\\Users\\USER\\AppData\\Local\\Programs\\Python\\Python311\\Lib\\site-packages\\tqdm\\auto.py:21: TqdmWarning: IProgress not found. Please update jupyter and ipywidgets. See https://ipywidgets.readthedocs.io/en/stable/user_install.html\n",
      "  from .autonotebook import tqdm as notebook_tqdm\n"
     ]
    }
   ],
   "source": [
    "import pandas as pd\n",
    "import numpy as np\n",
    "from sklearn.preprocessing import LabelEncoder\n",
    "from hyperopt import *\n",
    "from optuna import *\n",
    "import matplotlib.pyplot as plt"
   ]
  },
  {
   "cell_type": "markdown",
   "metadata": {},
   "source": [
    "### Aalisis de la base de daos:"
   ]
  },
  {
   "cell_type": "code",
   "execution_count": 6,
   "metadata": {},
   "outputs": [],
   "source": [
    "datos = pd.read_excel(\"Cartera_TarifarVF.xlsx\")"
   ]
  },
  {
   "cell_type": "code",
   "execution_count": 7,
   "metadata": {},
   "outputs": [
    {
     "data": {
      "text/plain": [
       "ASEGURADO       0\n",
       "RANGO ETARIO    0\n",
       "Género          0\n",
       "CIUDAD          0\n",
       "OCUPACIÓN       0\n",
       "COBERTURA       0\n",
       "dtype: int64"
      ]
     },
     "execution_count": 7,
     "metadata": {},
     "output_type": "execute_result"
    }
   ],
   "source": [
    "datos.isnull().sum()"
   ]
  },
  {
   "cell_type": "code",
   "execution_count": 96,
   "metadata": {},
   "outputs": [],
   "source": [
    "gen = datos[\"Género\"]\n",
    "rang_et = datos[\"RANGO ETARIO\"]\n",
    "ciu = datos[\"CIUDAD\"]\n",
    "ocup = datos[\"OCUPACIÓN\"]\n"
   ]
  },
  {
   "cell_type": "markdown",
   "metadata": {},
   "source": [
    "### Proporcion de mujeres y hombres en la base de datos:"
   ]
  },
  {
   "cell_type": "code",
   "execution_count": 49,
   "metadata": {},
   "outputs": [
    {
     "name": "stdout",
     "output_type": "stream",
     "text": [
      "EN total la base de datos cuneta con 50279 pacientes masculino, lo cual es 50.27950279502795% del ottal de pacientes\n",
      "EN total la base de datos cuneta con 49720 pacientes femeninas, lo cual es 49.72049720497205% del ottal de pacientes\n"
     ]
    }
   ],
   "source": [
    "masculino = 0\n",
    "femenino = 0\n",
    "for i in range(0,int(len(gen)),6):\n",
    "    if gen[i] == \"Masculino\":\n",
    "        masculino +=1\n",
    "    else: #gen[i] == \"Femenino\":\n",
    "        femenino +=1\n",
    "\n",
    "print(f\"En total la base de datos cuneta con {masculino} pacientes masculino, lo cual es {100*(masculino/int(len(gen)/6))}% del ottal de pacientes\")\n",
    "print(f\"En total la base de datos cuneta con {femenino} pacientes femeninas, lo cual es {100*(femenino/int(len(gen)/6))}% del ottal de pacientes\")\n"
   ]
  },
  {
   "cell_type": "markdown",
   "metadata": {},
   "source": [
    "### Rango Etario"
   ]
  },
  {
   "cell_type": "code",
   "execution_count": 72,
   "metadata": {},
   "outputs": [],
   "source": [
    "Rango = []\n",
    "\n",
    "for i in range(0,int(len(gen)),6):\n",
    "    if rang_et[i][2:] == '-mas':\n",
    "        Rango.append(int(rang_et[i][:2]))\n",
    "    elif rang_et[i][2] == '-':\n",
    "        Rango.append(int(rang_et[i][3:]))\n",
    "    else:\n",
    "        Rango.append(int(rang_et[i][2:]))"
   ]
  },
  {
   "cell_type": "code",
   "execution_count": 88,
   "metadata": {},
   "outputs": [
    {
     "name": "stdout",
     "output_type": "stream",
     "text": [
      "En total los pacientres entre 0-14 años son: 14102\n",
      "En total los pacientres entre 15-40 años son: 14397\n",
      "En total los pacientres entre 40-50 años son: 14392\n",
      "En total los pacientres entre 51-59 años son: 14372\n",
      "En total los pacientres entre 60-65 años son: 14351\n",
      "En total los pacientres entre 66-70 años son: 14239\n",
      "En total los pacientres entre 71-mas años son: 14239\n"
     ]
    },
    {
     "data": {
      "image/png": "[encoded data removed]",
      "text/plain": [
       "<Figure size 640x480 with 1 Axes>"
      ]
     },
     "metadata": {},
     "output_type": "display_data"
    }
   ],
   "source": [
    "plt.hist(Rango, bins =[0 ,15, 41, 51, 60, 66, 71, 100])\n",
    "plt.title(\"Histograma Rango Etario\")\n",
    "plt.xlabel('Edades')\n",
    "plt.ylabel('Pacientes')\n",
    "\n",
    "print(f\"En total los pacientres entre 0-14 años son: {Rango.count(14)}\")\n",
    "print(f\"En total los pacientres entre 15-40 años son: {Rango.count(40)}\")\n",
    "print(f\"En total los pacientres entre 40-50 años son: {Rango.count(50)}\")\n",
    "print(f\"En total los pacientres entre 51-59 años son: {Rango.count(59)}\")\n",
    "print(f\"En total los pacientres entre 60-65 años son: {Rango.count(65)}\")\n",
    "print(f\"En total los pacientres entre 66-70 años son: {Rango.count(70)}\")\n",
    "print(f\"En total los pacientres entre 71-mas años son: {Rango.count(70)}\")\n"
   ]
  },
  {
   "cell_type": "markdown",
   "metadata": {},
   "source": [
    "### Ciudad"
   ]
  },
  {
   "cell_type": "code",
   "execution_count": 95,
   "metadata": {},
   "outputs": [
    {
     "name": "stdout",
     "output_type": "stream",
     "text": [
      "En total la base de datos cuneta con 20029 pacientes habitando en la Regional Centro, lo cual es 20.02920029200292% del ottal de pacientes\n",
      "En total la base de datos cuneta con 20076 pacientes habitando en la Regional Antioquia, lo cual es 20.07620076200762% del ottal de pacientes\n",
      "En total la base de datos cuneta con 20116 pacientes habitando en la Regional Eje Cafetero, lo cual es 20.11620116201162% del ottal de pacientes\n",
      "En total la base de datos cuneta con 19975 pacientes habitando en la Regional Norte, lo cual es 19.97519975199752% del ottal de pacientes\n",
      "En total la base de datos cuneta con 19803 pacientes habitando en la Regional Occidente, lo cual es 19.803198031980322% del ottal de pacientes\n"
     ]
    }
   ],
   "source": [
    "reg_centro = 0\n",
    "reg_antioquia= 0\n",
    "reg_eje_cafetero =0 \n",
    "reg_norte = 0\n",
    "reg_occidente = 0 \n",
    "\n",
    "for i in range(0,int(len(ciu)),6):\n",
    "    if ciu[i] == \"REGIONAL CENTRO\":\n",
    "        reg_centro +=1\n",
    "    elif ciu[i] == \"REGIONAL NORTE\":\n",
    "        reg_norte +=1\n",
    "    elif ciu[i] == \"REGIONAL EJE CAFETERO\":\n",
    "        reg_eje_cafetero +=1\n",
    "    elif ciu[i] == \"REGIONAL OCCIDENTE\":\n",
    "        reg_occidente +=1\n",
    "    elif ciu[i] == \"REGIONAL ANTIOQUIA\":\n",
    "        reg_antioquia +=1\n",
    "    \n",
    "Total = [reg_centro, reg_antioquia, reg_eje_cafetero, reg_norte, reg_occidente]\n",
    "\n",
    "print(f\"En total la base de datos cuneta con {reg_centro} pacientes habitando en la Regional Centro, lo cual es {100*(reg_centro/int(len(ciu)/6))}% del ottal de pacientes\")\n",
    "print(f\"En total la base de datos cuneta con {reg_antioquia} pacientes habitando en la Regional Antioquia, lo cual es {100*(reg_antioquia/int(len(ciu)/6))}% del ottal de pacientes\")\n",
    "print(f\"En total la base de datos cuneta con {reg_eje_cafetero} pacientes habitando en la Regional Eje Cafetero, lo cual es {100*(reg_eje_cafetero/int(len(ciu)/6))}% del ottal de pacientes\")\n",
    "print(f\"En total la base de datos cuneta con {reg_norte} pacientes habitando en la Regional Norte, lo cual es {100*(reg_norte/int(len(ciu)/6))}% del ottal de pacientes\")\n",
    "print(f\"En total la base de datos cuneta con {reg_occidente} pacientes habitando en la Regional Occidente, lo cual es {100*(reg_occidente/int(len(ciu)/6))}% del ottal de pacientes\")\n"
   ]
  },
  {
   "cell_type": "markdown",
   "metadata": {},
   "source": [
    "### Ocupacion: "
   ]
  },
  {
   "cell_type": "code",
   "execution_count": 97,
   "metadata": {},
   "outputs": [
    {
     "name": "stdout",
     "output_type": "stream",
     "text": [
      "En total la base de datos cuneta con 14102 pacientes que son estudiantes, lo cual es 14.102141021410214% del ottal de pacientes\n",
      "En total la base de datos cuneta con 24020 pacientes que son constructores, lo cual es 24.020240202402025% del ottal de pacientes\n",
      "En total la base de datos cuneta con 23694 pacientes que son medicos, lo cual es 23.69423694236942% del ottal de pacientes\n",
      "En total la base de datos cuneta con 24037 pacientes que son programadores, lo cual es 24.037240372403723% del ottal de pacientes\n",
      "En total la base de datos cuneta con 14146 pacientes que son pensionados, lo cual es 14.146141461414613% del ottal de pacientes\n"
     ]
    }
   ],
   "source": [
    "est = 0\n",
    "constr = 0\n",
    "med = 0 \n",
    "prog = 0\n",
    "pens = 0 \n",
    "\n",
    "for i in range(0,int(len(ciu)),6):\n",
    "    if ocup[i] == \"Estudiante\":\n",
    "        est +=1\n",
    "    elif ocup[i] == \"Pensionado\":\n",
    "        pens +=1\n",
    "    elif ocup[i] == \"Programador\":\n",
    "        prog +=1\n",
    "    elif ocup[i] == \"Médico\":\n",
    "        med +=1\n",
    "    elif ocup[i] == \"Constructor\":\n",
    "        constr +=1\n",
    "    \n",
    "Total = [reg_centro, reg_antioquia, reg_eje_cafetero, reg_norte, reg_occidente]\n",
    "\n",
    "print(f\"En total la base de datos cuneta con {est} pacientes que son estudiantes, lo cual es {100*(est/int(len(ciu)/6))}% del ottal de pacientes\")\n",
    "print(f\"En total la base de datos cuneta con {constr} pacientes que son constructores, lo cual es {100*(constr/int(len(ciu)/6))}% del ottal de pacientes\")\n",
    "print(f\"En total la base de datos cuneta con {med} pacientes que son medicos, lo cual es {100*(med/int(len(ciu)/6))}% del ottal de pacientes\")\n",
    "print(f\"En total la base de datos cuneta con {prog} pacientes que son programadores, lo cual es {100*(prog/int(len(ciu)/6))}% del ottal de pacientes\")\n",
    "print(f\"En total la base de datos cuneta con {pens} pacientes que son pensionados, lo cual es {100*(pens/int(len(ciu)/6))}% del ottal de pacientes\")\n"
   ]
  },
  {
   "cell_type": "markdown",
   "metadata": {},
   "source": [
    "## Modelo predictivo"
   ]
  },
  {
   "cell_type": "markdown",
   "metadata": {},
   "source": [
    "### Division de los datos"
   ]
  },
  {
   "cell_type": "code",
   "execution_count": 5,
   "metadata": {},
   "outputs": [],
   "source": [
    "entrenamineto = pd.read_excel(\"BD_Salud.xlsx\")"
   ]
  },
  {
   "cell_type": "code",
   "execution_count": 119,
   "metadata": {},
   "outputs": [],
   "source": [
    "entre_modelo1 = entrenamineto.drop(columns=[\"ASEGURADO\", \"Edad\", \"VALOR SINIESTRO\", \"SEVERIDAD\", \"MES OCURRENCIA\"]) #Frecuencia \n",
    "entre_modelo2 = entrenamineto.drop(columns=[\"ASEGURADO\", \"Edad\", \"VALOR SINIESTRO\", \"Frecuencia\", \"MES OCURRENCIA\"]) #Severidad\n",
    "entre_modelo2 = entre_modelo2[entre_modelo2[\"SEVERIDAD\"] != 0]"
   ]
  },
  {
   "cell_type": "code",
   "execution_count": 120,
   "metadata": {},
   "outputs": [],
   "source": [
    "entre_modelo1_reg = entre_modelo1.copy()\n",
    "entre_modelo1_reg = entre_modelo1.copy()\n",
    "\n",
    "dummies = pd.get_dummies(entre_modelo1_reg['RANGO ETARIO'])\n",
    "entre_modelo1_reg = pd.concat([entre_modelo1_reg, dummies], axis=1)\n",
    "entre_modelo1_reg.drop('RANGO ETARIO', axis=1, inplace=True)\n",
    "\n",
    "dummies = pd.get_dummies(entre_modelo1_reg['Género'], prefix='Genero')\n",
    "entre_modelo1_reg = pd.concat([entre_modelo1_reg, dummies], axis=1)\n",
    "entre_modelo1_reg.drop('Género', axis=1, inplace=True)\n",
    "entre_modelo1_reg.drop('Genero_Femenino', axis=1, inplace=True)\n",
    "\n",
    "dummies = pd.get_dummies(entre_modelo1_reg['CIUDAD'])\n",
    "entre_modelo1_reg = pd.concat([entre_modelo1_reg, dummies], axis=1)\n",
    "entre_modelo1_reg.drop('CIUDAD', axis=1, inplace=True)\n",
    "\n",
    "dummies = pd.get_dummies(entre_modelo1_reg['OCUPACIÓN'])\n",
    "entre_modelo1_reg = pd.concat([entre_modelo1_reg, dummies], axis=1)\n",
    "entre_modelo1_reg.drop('OCUPACIÓN', axis=1, inplace=True)\n",
    "\n",
    "dummies = pd.get_dummies(entre_modelo1_reg['COBERTURA'])\n",
    "entre_modelo1_reg = pd.concat([entre_modelo1_reg, dummies], axis=1)\n",
    "entre_modelo1_reg.drop('COBERTURA', axis=1, inplace=True)"
   ]
  },
  {
   "cell_type": "code",
   "execution_count": 121,
   "metadata": {},
   "outputs": [],
   "source": [
    "entre_modelo2_reg = test.copy()\n",
    "test_reg = test.copy()\n",
    "\n",
    "dummies = pd.get_dummies(test_reg['RANGO ETARIO'])\n",
    "test_reg = pd.concat([entre_modelo2_reg, dummies], axis=1)\n",
    "entre_modelo2_reg.drop('RANGO ETARIO', axis=1, inplace=True)\n",
    "\n",
    "dummies = pd.get_dummies(entre_modelo2_reg['Género'], prefix='Genero')\n",
    "entre_modelo2_reg = pd.concat([entre_modelo2_reg, dummies], axis=1)\n",
    "entre_modelo2_reg.drop('Género', axis=1, inplace=True)\n",
    "entre_modelo2_reg.drop('Genero_Femenino', axis=1, inplace=True)\n",
    "\n",
    "dummies = pd.get_dummies(entre_modelo2_reg['CIUDAD'])\n",
    "entre_modelo2_reg = pd.concat([entre_modelo2_reg, dummies], axis=1)\n",
    "entre_modelo2_reg.drop('CIUDAD', axis=1, inplace=True)\n",
    "\n",
    "dummies = pd.get_dummies(entre_modelo2_reg['OCUPACIÓN'])\n",
    "entre_modelo2_reg = pd.concat([entre_modelo2_reg, dummies], axis=1)\n",
    "entre_modelo2_reg.drop('OCUPACIÓN', axis=1, inplace=True)\n",
    "\n",
    "dummies = pd.get_dummies(entre_modelo2_reg['COBERTURA'])\n",
    "entre_modelo2_reg = pd.concat([entre_modelo2_reg, dummies], axis=1)\n",
    "entre_modelo2_reg.drop('COBERTURA', axis=1, inplace=True)"
   ]
  },
  {
   "cell_type": "markdown",
   "metadata": {},
   "source": [
    "# Primeros modelos"
   ]
  },
  {
   "cell_type": "markdown",
   "metadata": {},
   "source": [
    "### Random Forest"
   ]
  },
  {
   "cell_type": "code",
   "execution_count": 127,
   "metadata": {},
   "outputs": [
    {
     "name": "stdout",
     "output_type": "stream",
     "text": [
      "El MSE optenido para el modelo de Frecuencia es de: 12.223249948965725\n",
      "1.6611178051768687\n",
      "El MSE optenido para el modelo de Severidad es de: 18033319813078.67\n",
      "1853784.4941605863\n"
     ]
    }
   ],
   "source": [
    "from sklearn.ensemble import RandomForestRegressor\n",
    "from  sklearn.model_selection import train_test_split\n",
    "from sklearn.metrics import mean_squared_error\n",
    "\\\n",
    "        # Modelo Frecunecia (modelo 1)\n",
    "\n",
    "X1 = entre_modelo1_reg[entre_modelo1_reg.columns[1:]]\n",
    "y1 = entre_modelo1_reg[entre_modelo1_reg.columns[0]]\n",
    "\n",
    "X_train1, X_test1, y_train1, y_test1 = train_test_split(X1, y1, test_size=0.25, random_state=42)\n",
    "\n",
    "rand_forest = RandomForestRegressor(n_estimators= 100, criterion= 'squared_error', max_depth=None)\n",
    "\n",
    "rand_forest.fit(X_train1, y_train1)\n",
    "\n",
    "predicciones = rand_forest.predict(X_test1)\n",
    "\n",
    "precision = mean_squared_error(y_test1, predicciones)\n",
    "\n",
    "print(f'El MSE optenido para el modelo de Frecuencia es de: {precision}')\n",
    "print(np.mean(predicciones))\n",
    "\n",
    "\n",
    "        # Modelo Severidad (modelo 2)\n",
    "\n",
    "X1 = entre_modelo2_reg[entre_modelo2_reg.columns[1:]]\n",
    "y1 = entre_modelo2_reg[entre_modelo2_reg.columns[0]]\n",
    "\n",
    "X_train1, X_test1, y_train1, y_test1 = train_test_split(X1, y1, test_size=0.25, random_state=42)\n",
    "\n",
    "rand_forest = RandomForestRegressor(n_estimators= 100, criterion= 'squared_error', max_depth=None)\n",
    "\n",
    "rand_forest.fit(X_train1, y_train1)\n",
    "\n",
    "predicciones = rand_forest.predict(X_test1)\n",
    "\n",
    "precision = mean_squared_error(y_test1, predicciones)\n",
    "\n",
    "print(f'El MSE optenido para el modelo de Severidad es de: {precision}')\n",
    "print(np.mean(predicciones))\n"
   ]
  },
  {
   "cell_type": "markdown",
   "metadata": {},
   "source": [
    "## Regresion de Poisson"
   ]
  },
  {
   "cell_type": "code",
   "execution_count": 194,
   "metadata": {},
   "outputs": [
    {
     "name": "stdout",
     "output_type": "stream",
     "text": [
      "Para el modelo de Frecuencia el error cuadratico medio es de: 12.201423805855892\n",
      "[0.11106858 0.46369733 1.68567732 ... 0.45945321 0.10924971 0.45863549]\n",
      "Para el modelo de Severidad el error cuadratico medio es de: 17855194635395.895\n",
      "1852432.2619019388\n"
     ]
    }
   ],
   "source": [
    "from sklearn.linear_model import PoissonRegressor\n",
    "from  sklearn.model_selection import train_test_split\n",
    "from sklearn.metrics import mean_squared_error\n",
    "\n",
    "        # Modelo Frecunecia (modelo 1)\n",
    "\n",
    "X1 = entre_modelo1_reg[entre_modelo1_reg.columns[1:]]\n",
    "y1 = entre_modelo1_reg[entre_modelo1_reg.columns[0]]\n",
    "\n",
    "\n",
    "X_train1, X_test1, y_train1, y_test1 = train_test_split(X1, y1, test_size=0.25, random_state=42)\n",
    "\n",
    "reg_pois = PoissonRegressor(alpha =0.0022)\n",
    "\n",
    "reg_pois.fit(X_train1, y_train1)\n",
    "\n",
    "predicciones = reg_pois.predict(X_test1)\n",
    "\n",
    "MSE = mean_squared_error(y_test1, predicciones)\n",
    "\n",
    "print(f'Para el modelo de Frecuencia el error cuadratico medio es de: {MSE}')\n",
    "print(predicciones)\n",
    "\n",
    "        # Modelo Severidad\n",
    "\n",
    "X1 = entre_modelo2_reg[entre_modelo2_reg.columns[1:]]\n",
    "y1 = entre_modelo2_reg[entre_modelo2_reg.columns[0]]\n",
    "\n",
    "\n",
    "X_train1, X_test1, y_train1, y_test1 = train_test_split(X1, y1, test_size=0.25, random_state=42)\n",
    "\n",
    "reg_pois = PoissonRegressor(alpha = 0.001)\n",
    "\n",
    "reg_pois.fit(X_train1, y_train1)\n",
    "\n",
    "predicciones = reg_pois.predict(X_test1)\n",
    "\n",
    "MSE = mean_squared_error(y_test1, predicciones)\n",
    "\n",
    "print(f'Para el modelo de Severidad el error cuadratico medio es de: {MSE}')\n",
    "\n",
    "print(np.mean(predicciones))"
   ]
  },
  {
   "cell_type": "code",
   "execution_count": 242,
   "metadata": {},
   "outputs": [
    {
     "data": {
      "text/plain": [
       "3.4930536505836685"
      ]
     },
     "execution_count": 242,
     "metadata": {},
     "output_type": "execute_result"
    }
   ],
   "source": [
    "    #RMSE\n",
    "np.sqrt(12.201423805855892)"
   ]
  },
  {
   "cell_type": "markdown",
   "metadata": {},
   "source": [
    "### Redes Neuronales"
   ]
  },
  {
   "cell_type": "code",
   "execution_count": 105,
   "metadata": {},
   "outputs": [
    {
     "name": "stdout",
     "output_type": "stream",
     "text": [
      "Para el modelo de Frecuencia el error cuadratico medio es de: 12.217447912702072\n",
      "Para el modelo de Frecuencia el R^2 es de: 0.17847201655943357\n"
     ]
    }
   ],
   "source": [
    "from sklearn.neural_network import MLPRegressor\n",
    "from  sklearn.model_selection import train_test_split\n",
    "from sklearn.metrics import mean_squared_error\n",
    "\n",
    "        # Modelo Frecunecia (modelo 1)\n",
    "\n",
    "X1 = entre_modelo1_reg[entre_modelo1_reg.columns[1:]]\n",
    "y1 = entre_modelo1_reg[entre_modelo1_reg.columns[0]]\n",
    "\n",
    "\n",
    "X_train1, X_test1, y_train1, y_test1 = train_test_split(X1, y1, test_size=0.25, random_state=42)\n",
    "\n",
    "red_neu = MLPRegressor(activation= \"relu\", solver=\"adam\", alpha= 0.0001)\n",
    "\n",
    "red_neu.fit(X_train1, y_train1)\n",
    "\n",
    "predicciones = red_neu.predict(X_test1)\n",
    "\n",
    "MSE = mean_squared_error(y_test1, predicciones)\n",
    "\n",
    "print(f'Para el modelo de Frecuencia el error cuadratico medio es de: {MSE}')"
   ]
  },
  {
   "cell_type": "markdown",
   "metadata": {},
   "source": [
    "### Regresion Gamma "
   ]
  },
  {
   "cell_type": "code",
   "execution_count": 236,
   "metadata": {},
   "outputs": [
    {
     "name": "stdout",
     "output_type": "stream",
     "text": [
      "Para el modelo de Severidad el error cuadratico medio es de: 65373578543687.734\n",
      "796691.8523749806\n",
      "206480839177.658\n"
     ]
    }
   ],
   "source": [
    "from sklearn.linear_model import GammaRegressor\n",
    "from  sklearn.model_selection import train_test_split\n",
    "from sklearn.metrics import mean_squared_error\n",
    "\n",
    "# Modelo Severidad\n",
    "\n",
    "X2 = entre_modelo2_reg[entre_modelo2_reg.columns[1:]]\n",
    "y2 = entre_modelo2_reg[entre_modelo2_reg.columns[0]]\n",
    "\n",
    "\n",
    "X_train1, X_test1, y_train1, y_test1 = train_test_split(X2, y2, test_size=0.25, random_state=42)\n",
    "\n",
    "reg_gamma = GammaRegressor(alpha = 0.5)\n",
    "\n",
    "reg_gamma.fit(X_train1, y_train1)\n",
    "\n",
    "predicciones = reg_gamma.predict(X_test1)\n",
    "\n",
    "MSE = mean_squared_error(y_test1, predicciones)\n",
    "\n",
    "print(f'Para el modelo de Severidad el error cuadratico medio es de: {MSE}')\n",
    "\n",
    "print(np.mean(predicciones))\n",
    "print(np.var(predicciones))"
   ]
  },
  {
   "cell_type": "code",
   "execution_count": 243,
   "metadata": {},
   "outputs": [
    {
     "data": {
      "text/plain": [
       "8085392.9121402465"
      ]
     },
     "execution_count": 243,
     "metadata": {},
     "output_type": "execute_result"
    }
   ],
   "source": [
    "    #RMSE\n",
    "np.sqrt(65373578543687.734)"
   ]
  },
  {
   "cell_type": "markdown",
   "metadata": {},
   "source": [
    "# Optuna (optimizacion de hiperparametros)"
   ]
  },
  {
   "cell_type": "code",
   "execution_count": 152,
   "metadata": {},
   "outputs": [],
   "source": [
    "X1 = entre_modelo1_reg[entre_modelo1_reg.columns[1:]]\n",
    "y1 = entre_modelo1_reg[entre_modelo1_reg.columns[0]]\n",
    "\n",
    "X_train, X_test, y_train, y_test = train_test_split(X1,y1,test_size=0.2,random_state=0)\n",
    "X_train, X_val, y_train, y_val = train_test_split(X_train,y_train,test_size=0.25,random_state=0)"
   ]
  },
  {
   "cell_type": "markdown",
   "metadata": {},
   "source": [
    "### Regresion de Poisson (Frecuencia)"
   ]
  },
  {
   "cell_type": "code",
   "execution_count": 155,
   "metadata": {},
   "outputs": [
    {
     "name": "stderr",
     "output_type": "stream",
     "text": [
      "[I 2024-02-27 14:58:17,541] A new study created in memory with name: no-name-b0633e51-5c00-4c9c-9e0b-ba207c07e728\n"
     ]
    },
    {
     "name": "stdout",
     "output_type": "stream",
     "text": [
      "Para el modelo de Frecuencia el error cuadratico medio es de: 17855194635395.895\n",
      "1852432.2619019388\n"
     ]
    },
    {
     "name": "stderr",
     "output_type": "stream",
     "text": [
      "[I 2024-02-27 14:58:18,092] Trial 0 finished with value: 12.17018186034376 and parameters: {'alfa': 0.00436583995248874}. Best is trial 0 with value: 12.17018186034376.\n",
      "[I 2024-02-27 14:58:18,694] Trial 1 finished with value: 12.169950580326367 and parameters: {'alfa': 0.0017339762977615458}. Best is trial 1 with value: 12.169950580326367.\n",
      "[I 2024-02-27 14:58:19,087] Trial 2 finished with value: 12.209063550455662 and parameters: {'alfa': 0.038466725111528724}. Best is trial 1 with value: 12.169950580326367.\n",
      "[I 2024-02-27 14:58:19,437] Trial 3 finished with value: 12.170185686501119 and parameters: {'alfa': 2.8277599352167882e-05}. Best is trial 1 with value: 12.169950580326367.\n",
      "[I 2024-02-27 14:58:19,781] Trial 4 finished with value: 12.170190310591213 and parameters: {'alfa': 1.1773766014476558e-05}. Best is trial 1 with value: 12.169950580326367.\n",
      "[I 2024-02-27 14:58:19,998] Trial 5 finished with value: 13.643329382868286 and parameters: {'alfa': 0.9200860957963037}. Best is trial 1 with value: 12.169950580326367.\n",
      "[I 2024-02-27 14:58:20,523] Trial 6 finished with value: 12.169991510489698 and parameters: {'alfa': 0.003182208677093049}. Best is trial 1 with value: 12.169950580326367.\n",
      "[I 2024-02-27 14:58:20,832] Trial 7 finished with value: 12.38012448533391 and parameters: {'alfa': 0.11646253240016963}. Best is trial 1 with value: 12.169950580326367.\n",
      "[I 2024-02-27 14:58:21,553] Trial 8 finished with value: 12.169993001179241 and parameters: {'alfa': 0.0030730694750579508}. Best is trial 1 with value: 12.169950580326367.\n",
      "[I 2024-02-27 14:58:22,698] Trial 9 finished with value: 12.170050181322823 and parameters: {'alfa': 0.0008259267637459956}. Best is trial 1 with value: 12.169950580326367.\n",
      "[I 2024-02-27 14:58:23,697] Trial 10 finished with value: 12.170166164434912 and parameters: {'alfa': 0.0001279409929919693}. Best is trial 1 with value: 12.169950580326367.\n",
      "[I 2024-02-27 14:58:24,663] Trial 11 finished with value: 12.170040832619991 and parameters: {'alfa': 0.0006939097904949072}. Best is trial 1 with value: 12.169950580326367.\n",
      "[I 2024-02-27 14:58:25,944] Trial 12 finished with value: 12.172256928806652 and parameters: {'alfa': 0.00924674595335963}. Best is trial 1 with value: 12.169950580326367.\n",
      "[I 2024-02-27 14:58:26,833] Trial 13 finished with value: 12.17008581807157 and parameters: {'alfa': 0.0005128490472903894}. Best is trial 1 with value: 12.169950580326367.\n",
      "[I 2024-02-27 14:58:27,923] Trial 14 finished with value: 12.175662784745018 and parameters: {'alfa': 0.013834803332184537}. Best is trial 1 with value: 12.169950580326367.\n",
      "[I 2024-02-27 14:58:29,548] Trial 15 finished with value: 12.169942791868822 and parameters: {'alfa': 0.001893205082753807}. Best is trial 15 with value: 12.169942791868822.\n",
      "[I 2024-02-27 14:58:30,609] Trial 16 finished with value: 12.170161415692075 and parameters: {'alfa': 0.00014714715182695574}. Best is trial 15 with value: 12.169942791868822.\n",
      "[I 2024-02-27 14:58:31,722] Trial 17 finished with value: 12.169957260841029 and parameters: {'alfa': 0.0015307249777302342}. Best is trial 15 with value: 12.169942791868822.\n",
      "[I 2024-02-27 14:58:32,468] Trial 18 finished with value: 12.170145894926486 and parameters: {'alfa': 0.00021198796563102248}. Best is trial 15 with value: 12.169942791868822.\n",
      "[I 2024-02-27 14:58:33,464] Trial 19 finished with value: 12.178467636610124 and parameters: {'alfa': 0.016774739755260885}. Best is trial 15 with value: 12.169942791868822.\n",
      "[I 2024-02-27 14:58:34,862] Trial 20 finished with value: 12.169953469092269 and parameters: {'alfa': 0.0016166061888666997}. Best is trial 15 with value: 12.169942791868822.\n",
      "[I 2024-02-27 14:58:36,082] Trial 21 finished with value: 12.16994973020021 and parameters: {'alfa': 0.001667584838977314}. Best is trial 15 with value: 12.169942791868822.\n",
      "[I 2024-02-27 14:58:36,813] Trial 22 finished with value: 12.170107428659446 and parameters: {'alfa': 0.00038935857706045034}. Best is trial 15 with value: 12.169942791868822.\n",
      "[I 2024-02-27 14:58:37,864] Trial 23 finished with value: 12.169988753547637 and parameters: {'alfa': 0.001262003123821406}. Best is trial 15 with value: 12.169942791868822.\n",
      "[I 2024-02-27 14:58:38,804] Trial 24 finished with value: 12.170358471871632 and parameters: {'alfa': 0.005061933508539585}. Best is trial 15 with value: 12.169942791868822.\n",
      "[I 2024-02-27 14:58:39,863] Trial 25 finished with value: 12.169952677569714 and parameters: {'alfa': 0.001605796563252418}. Best is trial 15 with value: 12.169942791868822.\n",
      "[I 2024-02-27 14:58:40,494] Trial 26 finished with value: 12.170103945319322 and parameters: {'alfa': 0.00040682725857419495}. Best is trial 15 with value: 12.169942791868822.\n",
      "[I 2024-02-27 14:58:41,037] Trial 27 finished with value: 12.170171933712181 and parameters: {'alfa': 7.82800185332207e-05}. Best is trial 15 with value: 12.169942791868822.\n",
      "[I 2024-02-27 14:58:41,848] Trial 28 finished with value: 12.170908243785572 and parameters: {'alfa': 0.006620578085385273}. Best is trial 15 with value: 12.169942791868822.\n",
      "[I 2024-02-27 14:58:42,821] Trial 29 finished with value: 12.169965441086408 and parameters: {'alfa': 0.0028400536479298104}. Best is trial 15 with value: 12.169942791868822.\n",
      "[I 2024-02-27 14:58:43,542] Trial 30 finished with value: 12.170133500424424 and parameters: {'alfa': 0.00026630479305617024}. Best is trial 15 with value: 12.169942791868822.\n",
      "[I 2024-02-27 14:58:44,763] Trial 31 finished with value: 12.169949481115498 and parameters: {'alfa': 0.001491087358891997}. Best is trial 15 with value: 12.169942791868822.\n",
      "[I 2024-02-27 14:58:46,111] Trial 32 finished with value: 12.170052575664998 and parameters: {'alfa': 0.0008727945039059044}. Best is trial 15 with value: 12.169942791868822.\n",
      "[I 2024-02-27 14:58:47,279] Trial 33 finished with value: 12.16995365826823 and parameters: {'alfa': 0.0028346677511918205}. Best is trial 15 with value: 12.169942791868822.\n",
      "[I 2024-02-27 14:58:48,643] Trial 34 finished with value: 12.170466532542088 and parameters: {'alfa': 0.005429746545545093}. Best is trial 15 with value: 12.169942791868822.\n",
      "[I 2024-02-27 14:58:49,764] Trial 35 finished with value: 12.170043118208294 and parameters: {'alfa': 0.0009095195671028388}. Best is trial 15 with value: 12.169942791868822.\n",
      "[I 2024-02-27 14:58:50,788] Trial 36 finished with value: 12.169936637374672 and parameters: {'alfa': 0.0019579048249264487}. Best is trial 36 with value: 12.169936637374672.\n",
      "[I 2024-02-27 14:58:51,817] Trial 37 finished with value: 12.169937964588707 and parameters: {'alfa': 0.0022125837140430905}. Best is trial 36 with value: 12.169936637374672.\n",
      "[I 2024-02-27 14:58:53,113] Trial 38 finished with value: 12.170094774841132 and parameters: {'alfa': 0.0038520396693904235}. Best is trial 36 with value: 12.169936637374672.\n",
      "[I 2024-02-27 14:58:53,883] Trial 39 finished with value: 12.186683145858177 and parameters: {'alfa': 0.023822095054972018}. Best is trial 36 with value: 12.169936637374672.\n",
      "[I 2024-02-27 14:58:54,723] Trial 40 finished with value: 12.171241342892865 and parameters: {'alfa': 0.0073412681864913915}. Best is trial 36 with value: 12.169936637374672.\n",
      "[I 2024-02-27 14:58:55,559] Trial 41 finished with value: 12.169935278636226 and parameters: {'alfa': 0.002193391537092534}. Best is trial 41 with value: 12.169935278636226.\n",
      "[I 2024-02-27 14:58:56,618] Trial 42 finished with value: 12.16993766198702 and parameters: {'alfa': 0.0022640405811918183}. Best is trial 41 with value: 12.169935278636226.\n",
      "[I 2024-02-27 14:58:57,541] Trial 43 finished with value: 12.170132479617925 and parameters: {'alfa': 0.004121178190566441}. Best is trial 41 with value: 12.169935278636226.\n",
      "[I 2024-02-27 14:58:58,427] Trial 44 finished with value: 12.169990252030914 and parameters: {'alfa': 0.0031953602408365768}. Best is trial 41 with value: 12.169935278636226.\n",
      "[I 2024-02-27 14:58:59,044] Trial 45 finished with value: 12.170046201509447 and parameters: {'alfa': 0.0006661569443872035}. Best is trial 41 with value: 12.169935278636226.\n",
      "[I 2024-02-27 14:58:59,953] Trial 46 finished with value: 12.169932868421768 and parameters: {'alfa': 0.0022849762084416816}. Best is trial 46 with value: 12.169932868421768.\n",
      "[I 2024-02-27 14:59:01,027] Trial 47 finished with value: 12.171733856116786 and parameters: {'alfa': 0.0083363044490297}. Best is trial 46 with value: 12.169932868421768.\n",
      "[I 2024-02-27 14:59:01,946] Trial 48 finished with value: 12.169949779804336 and parameters: {'alfa': 0.002664212008669458}. Best is trial 46 with value: 12.169932868421768.\n",
      "[I 2024-02-27 14:59:02,763] Trial 49 finished with value: 12.170043798033259 and parameters: {'alfa': 0.0009064186454980089}. Best is trial 46 with value: 12.169932868421768.\n",
      "[I 2024-02-27 14:59:03,521] Trial 50 finished with value: 12.172689966374652 and parameters: {'alfa': 0.009934395935724934}. Best is trial 46 with value: 12.169932868421768.\n",
      "[I 2024-02-27 14:59:04,435] Trial 51 finished with value: 12.169944637375998 and parameters: {'alfa': 0.0025056593560679}. Best is trial 46 with value: 12.169932868421768.\n",
      "[I 2024-02-27 14:59:05,286] Trial 52 finished with value: 12.169940033380694 and parameters: {'alfa': 0.0022730641647178912}. Best is trial 46 with value: 12.169932868421768.\n",
      "[I 2024-02-27 14:59:06,193] Trial 53 finished with value: 12.170341739362332 and parameters: {'alfa': 0.005001981306202838}. Best is trial 46 with value: 12.169932868421768.\n",
      "[I 2024-02-27 14:59:07,024] Trial 54 finished with value: 12.170020987305419 and parameters: {'alfa': 0.0010007057073166089}. Best is trial 46 with value: 12.169932868421768.\n",
      "[I 2024-02-27 14:59:07,906] Trial 55 finished with value: 12.169999301266275 and parameters: {'alfa': 0.0012042588520498206}. Best is trial 46 with value: 12.169932868421768.\n",
      "[I 2024-02-27 14:59:08,863] Trial 56 finished with value: 12.169932987111293 and parameters: {'alfa': 0.0021536823445857138}. Best is trial 46 with value: 12.169932868421768.\n",
      "[I 2024-02-27 14:59:09,774] Trial 57 finished with value: 12.170087216689032 and parameters: {'alfa': 0.0006048147102135706}. Best is trial 46 with value: 12.169932868421768.\n",
      "[I 2024-02-27 14:59:10,633] Trial 58 finished with value: 12.170199844747426 and parameters: {'alfa': 0.0044361155834726235}. Best is trial 46 with value: 12.169932868421768.\n",
      "[I 2024-02-27 14:59:11,454] Trial 59 finished with value: 12.16995502739445 and parameters: {'alfa': 0.0019499449592998994}. Best is trial 46 with value: 12.169932868421768.\n",
      "[I 2024-02-27 14:59:12,044] Trial 60 finished with value: 12.170085804981944 and parameters: {'alfa': 0.000512918879308178}. Best is trial 46 with value: 12.169932868421768.\n",
      "[I 2024-02-27 14:59:12,988] Trial 61 finished with value: 12.169935087787332 and parameters: {'alfa': 0.002126125436926567}. Best is trial 46 with value: 12.169932868421768.\n",
      "[I 2024-02-27 14:59:13,954] Trial 62 finished with value: 12.16994093583737 and parameters: {'alfa': 0.0020910369459888048}. Best is trial 46 with value: 12.169932868421768.\n",
      "[I 2024-02-27 14:59:14,894] Trial 63 finished with value: 12.170000291788458 and parameters: {'alfa': 0.0010877811745539899}. Best is trial 46 with value: 12.169932868421768.\n",
      "[I 2024-02-27 14:59:15,694] Trial 64 finished with value: 12.170071226067284 and parameters: {'alfa': 0.00373525582413643}. Best is trial 46 with value: 12.169932868421768.\n",
      "[I 2024-02-27 14:59:16,586] Trial 65 finished with value: 12.169967317980062 and parameters: {'alfa': 0.0013716142064375894}. Best is trial 46 with value: 12.169932868421768.\n",
      "[I 2024-02-27 14:59:17,404] Trial 66 finished with value: 12.169939511272883 and parameters: {'alfa': 0.0020360990407214544}. Best is trial 46 with value: 12.169932868421768.\n",
      "[I 2024-02-27 14:59:18,194] Trial 67 finished with value: 12.170716455155958 and parameters: {'alfa': 0.006141015759683705}. Best is trial 46 with value: 12.169932868421768.\n",
      "[I 2024-02-27 14:59:19,023] Trial 68 finished with value: 12.174459738027213 and parameters: {'alfa': 0.012374984248726434}. Best is trial 46 with value: 12.169932868421768.\n",
      "[I 2024-02-27 14:59:19,872] Trial 69 finished with value: 12.169991292243882 and parameters: {'alfa': 0.001247750813679263}. Best is trial 46 with value: 12.169932868421768.\n",
      "[I 2024-02-27 14:59:20,444] Trial 70 finished with value: 12.170040424291104 and parameters: {'alfa': 0.0006960539485012014}. Best is trial 46 with value: 12.169932868421768.\n",
      "[I 2024-02-27 14:59:21,390] Trial 71 finished with value: 12.169940180598214 and parameters: {'alfa': 0.0022579235402399858}. Best is trial 46 with value: 12.169932868421768.\n",
      "[I 2024-02-27 14:59:22,287] Trial 72 finished with value: 12.16996042732013 and parameters: {'alfa': 0.0016280257683771418}. Best is trial 46 with value: 12.169932868421768.\n",
      "[I 2024-02-27 14:59:23,093] Trial 73 finished with value: 12.1700248166671 and parameters: {'alfa': 0.0035094317180934306}. Best is trial 46 with value: 12.169932868421768.\n",
      "[I 2024-02-27 14:59:23,993] Trial 74 finished with value: 12.169932218737785 and parameters: {'alfa': 0.0018922080677614638}. Best is trial 74 with value: 12.169932218737785.\n",
      "[I 2024-02-27 14:59:24,787] Trial 75 finished with value: 12.170778636626842 and parameters: {'alfa': 0.006293988019763288}. Best is trial 74 with value: 12.169932218737785.\n",
      "[I 2024-02-27 14:59:25,646] Trial 76 finished with value: 12.169996871014057 and parameters: {'alfa': 0.003167495404259857}. Best is trial 74 with value: 12.169932218737785.\n",
      "[I 2024-02-27 14:59:26,844] Trial 77 finished with value: 12.17024288021081 and parameters: {'alfa': 0.004622994080053538}. Best is trial 74 with value: 12.169932218737785.\n",
      "[I 2024-02-27 14:59:27,961] Trial 78 finished with value: 12.169948333433148 and parameters: {'alfa': 0.0016481181056931288}. Best is trial 74 with value: 12.169932218737785.\n",
      "[I 2024-02-27 14:59:28,943] Trial 79 finished with value: 12.16999929065612 and parameters: {'alfa': 0.0010920456242157137}. Best is trial 74 with value: 12.169932218737785.\n",
      "[I 2024-02-27 14:59:29,789] Trial 80 finished with value: 12.170047449447447 and parameters: {'alfa': 0.0008218927923970933}. Best is trial 74 with value: 12.169932218737785.\n",
      "[I 2024-02-27 14:59:30,706] Trial 81 finished with value: 12.169934099351462 and parameters: {'alfa': 0.0020683995765819895}. Best is trial 74 with value: 12.169932218737785.\n",
      "[I 2024-02-27 14:59:31,573] Trial 82 finished with value: 12.169972224806818 and parameters: {'alfa': 0.002866847372699028}. Best is trial 74 with value: 12.169932218737785.\n",
      "[I 2024-02-27 14:59:32,484] Trial 83 finished with value: 12.169943924488622 and parameters: {'alfa': 0.0019064169407000454}. Best is trial 74 with value: 12.169932218737785.\n",
      "[I 2024-02-27 14:59:33,344] Trial 84 finished with value: 12.169944701546154 and parameters: {'alfa': 0.0025256872709179252}. Best is trial 74 with value: 12.169932218737785.\n",
      "[I 2024-02-27 14:59:34,176] Trial 85 finished with value: 12.16996826101226 and parameters: {'alfa': 0.0013370942971960554}. Best is trial 74 with value: 12.169932218737785.\n",
      "[I 2024-02-27 14:59:34,973] Trial 86 finished with value: 12.170099766803581 and parameters: {'alfa': 0.00391499629904713}. Best is trial 74 with value: 12.169932218737785.\n",
      "[I 2024-02-27 14:59:35,825] Trial 87 finished with value: 12.170424020636815 and parameters: {'alfa': 0.0052411927536225285}. Best is trial 74 with value: 12.169932218737785.\n",
      "[I 2024-02-27 14:59:36,574] Trial 88 finished with value: 12.171404822947357 and parameters: {'alfa': 0.00771421522677784}. Best is trial 74 with value: 12.169932218737785.\n",
      "[I 2024-02-27 14:59:37,453] Trial 89 finished with value: 12.169953651454643 and parameters: {'alfa': 0.0015973757590143985}. Best is trial 74 with value: 12.169932218737785.\n",
      "[I 2024-02-27 14:59:38,306] Trial 90 finished with value: 12.169964218953293 and parameters: {'alfa': 0.002930736273988539}. Best is trial 74 with value: 12.169932218737785.\n",
      "[I 2024-02-27 14:59:39,209] Trial 91 finished with value: 12.16995400158577 and parameters: {'alfa': 0.0020251873633125423}. Best is trial 74 with value: 12.169932218737785.\n",
      "[I 2024-02-27 14:59:40,144] Trial 92 finished with value: 12.169919000376003 and parameters: {'alfa': 0.002248529752069728}. Best is trial 92 with value: 12.169919000376003.\n",
      "[I 2024-02-27 14:59:41,043] Trial 93 finished with value: 12.17002902920935 and parameters: {'alfa': 0.003554662808062216}. Best is trial 92 with value: 12.169919000376003.\n",
      "[I 2024-02-27 14:59:41,838] Trial 94 finished with value: 12.170004774127 and parameters: {'alfa': 0.0011741817203492343}. Best is trial 92 with value: 12.169919000376003.\n",
      "[I 2024-02-27 14:59:42,724] Trial 95 finished with value: 12.169944204135723 and parameters: {'alfa': 0.002465120303641058}. Best is trial 92 with value: 12.169919000376003.\n",
      "[I 2024-02-27 14:59:43,588] Trial 96 finished with value: 12.170045738783584 and parameters: {'alfa': 0.0008327978344905752}. Best is trial 92 with value: 12.169919000376003.\n",
      "[I 2024-02-27 14:59:44,487] Trial 97 finished with value: 12.169959559465562 and parameters: {'alfa': 0.001551052836732648}. Best is trial 92 with value: 12.169919000376003.\n",
      "[I 2024-02-27 14:59:45,276] Trial 98 finished with value: 12.170166399709046 and parameters: {'alfa': 0.004263337758052269}. Best is trial 92 with value: 12.169919000376003.\n",
      "[I 2024-02-27 14:59:46,121] Trial 99 finished with value: 12.169945189595529 and parameters: {'alfa': 0.002230119569782423}. Best is trial 92 with value: 12.169919000376003.\n"
     ]
    },
    {
     "data": {
      "text/plain": [
       "{'alfa': 0.002248529752069728}"
      ]
     },
     "execution_count": 155,
     "metadata": {},
     "output_type": "execute_result"
    }
   ],
   "source": [
    "import optuna\n",
    "from sklearn import svm\n",
    "from sklearn import metrics\n",
    "from sklearn.model_selection import train_test_split\n",
    "\n",
    "def objective(trial):\n",
    "\n",
    "    # Invoke suggest methods of a Trial object to generate hyperparameters.\n",
    "\n",
    "    alfa = trial.suggest_float('alfa', 1e-5, 1, log=True)\n",
    "\n",
    "    poiss = PoissonRegressor(alpha = alfa)\n",
    "\n",
    "    poiss.fit(X_train, y_train)\n",
    "    y_pred = poiss.predict(X_test)\n",
    "\n",
    "    mse = metrics.mean_squared_error(y_test, y_pred)\n",
    "\n",
    "    return mse  # An objective value linked with the Trial object.\n",
    "\n",
    "studyPoiss = optuna.create_study(direction='minimize')  # Create a new study.\n",
    "studyPoiss.optimize(objective, n_trials=100)  # Invoke optimization of the objective function.\n",
    "\n",
    "studyPoiss.best_params"
   ]
  },
  {
   "cell_type": "code",
   "execution_count": 160,
   "metadata": {},
   "outputs": [],
   "source": [
    "X = entre_modelo2_reg[entre_modelo2_reg.columns[1:]]\n",
    "y = entre_modelo2_reg[entre_modelo2_reg.columns[0]]\n",
    "\n",
    "X_train, X_test, y_train, y_test = train_test_split(X,y,test_size=0.2,random_state=0)\n",
    "X_train, X_val, y_train, y_val = train_test_split(X_train,y_train,test_size=0.25,random_state=0)"
   ]
  },
  {
   "cell_type": "markdown",
   "metadata": {},
   "source": [
    "### Regresion Gamma (Severidad)"
   ]
  },
  {
   "cell_type": "code",
   "execution_count": 167,
   "metadata": {},
   "outputs": [
    {
     "name": "stderr",
     "output_type": "stream",
     "text": [
      "[I 2024-02-27 15:15:37,857] A new study created in memory with name: no-name-5f07d6d0-98ed-4d3f-9919-047d9aacc4e8\n",
      "[I 2024-02-27 15:15:37,936] Trial 0 finished with value: 58769747697038.58 and parameters: {'alfa': 0.0960068836774565}. Best is trial 0 with value: 58769747697038.58.\n",
      "[I 2024-02-27 15:15:38,003] Trial 1 finished with value: 68075598093479.79 and parameters: {'alfa': 0.6368467117188563}. Best is trial 0 with value: 58769747697038.58.\n",
      "[I 2024-02-27 15:15:38,074] Trial 2 finished with value: 63391328218130.02 and parameters: {'alfa': 0.17262173216302878}. Best is trial 0 with value: 58769747697038.58.\n",
      "[I 2024-02-27 15:15:38,194] Trial 3 finished with value: 30799831395156.617 and parameters: {'alfa': 0.011993957081596944}. Best is trial 3 with value: 30799831395156.617.\n",
      "[I 2024-02-27 15:15:38,264] Trial 4 finished with value: 67843557870166.36 and parameters: {'alfa': 0.570709900847078}. Best is trial 3 with value: 30799831395156.617.\n",
      "[I 2024-02-27 15:15:38,348] Trial 5 finished with value: 55575187528794.28 and parameters: {'alfa': 0.07122100464753015}. Best is trial 3 with value: 30799831395156.617.\n",
      "[I 2024-02-27 15:15:38,454] Trial 6 finished with value: 50508724329533.74 and parameters: {'alfa': 0.04786234856246694}. Best is trial 3 with value: 30799831395156.617.\n",
      "[I 2024-02-27 15:15:38,527] Trial 7 finished with value: 67553530117613.3 and parameters: {'alfa': 0.5026379222585691}. Best is trial 3 with value: 30799831395156.617.\n",
      "[I 2024-02-27 15:15:38,623] Trial 8 finished with value: 52724382394569.98 and parameters: {'alfa': 0.05650236665497655}. Best is trial 3 with value: 30799831395156.617.\n",
      "[I 2024-02-27 15:15:38,737] Trial 9 finished with value: 40164332244574.58 and parameters: {'alfa': 0.023639227182637203}. Best is trial 3 with value: 30799831395156.617.\n",
      "[I 2024-02-27 15:15:38,874] Trial 10 finished with value: 28737467240982.426 and parameters: {'alfa': 0.010015733807049097}. Best is trial 10 with value: 28737467240982.426.\n",
      "[I 2024-02-27 15:15:38,994] Trial 11 finished with value: 31085415305857.766 and parameters: {'alfa': 0.012272435901887396}. Best is trial 10 with value: 28737467240982.426.\n",
      "[I 2024-02-27 15:15:39,150] Trial 12 finished with value: 29921193283532.266 and parameters: {'alfa': 0.011139533835181856}. Best is trial 10 with value: 28737467240982.426.\n",
      "[I 2024-02-27 15:15:39,292] Trial 13 finished with value: 29215578216240.625 and parameters: {'alfa': 0.010472217497139474}. Best is trial 10 with value: 28737467240982.426.\n",
      "[I 2024-02-27 15:15:39,425] Trial 14 finished with value: 41426414143721.32 and parameters: {'alfa': 0.02571923018265994}. Best is trial 10 with value: 28737467240982.426.\n",
      "[I 2024-02-27 15:15:39,614] Trial 15 finished with value: 39188726268717.71 and parameters: {'alfa': 0.02213349958416744}. Best is trial 10 with value: 28737467240982.426.\n",
      "[I 2024-02-27 15:15:39,756] Trial 16 finished with value: 29659862130737.52 and parameters: {'alfa': 0.01089010649015734}. Best is trial 10 with value: 28737467240982.426.\n",
      "[I 2024-02-27 15:15:39,901] Trial 17 finished with value: 43391326947223.63 and parameters: {'alfa': 0.02931319228216804}. Best is trial 10 with value: 28737467240982.426.\n",
      "[I 2024-02-27 15:15:40,037] Trial 18 finished with value: 36751670942474.8 and parameters: {'alfa': 0.018739587910464515}. Best is trial 10 with value: 28737467240982.426.\n",
      "[I 2024-02-27 15:15:40,158] Trial 19 finished with value: 46918400375393.84 and parameters: {'alfa': 0.03719135749998576}. Best is trial 10 with value: 28737467240982.426.\n",
      "[I 2024-02-27 15:15:40,294] Trial 20 finished with value: 35620531840993.766 and parameters: {'alfa': 0.017303038326119607}. Best is trial 10 with value: 28737467240982.426.\n",
      "[I 2024-02-27 15:15:40,442] Trial 21 finished with value: 29104773768765.973 and parameters: {'alfa': 0.010367324229396275}. Best is trial 10 with value: 28737467240982.426.\n",
      "[I 2024-02-27 15:15:40,623] Trial 22 finished with value: 28873038170667.805 and parameters: {'alfa': 0.010135282467378973}. Best is trial 10 with value: 28737467240982.426.\n",
      "[I 2024-02-27 15:15:40,803] Trial 23 finished with value: 34634939464120.78 and parameters: {'alfa': 0.016112037551115715}. Best is trial 10 with value: 28737467240982.426.\n",
      "[I 2024-02-27 15:15:41,005] Trial 24 finished with value: 35170666174773.223 and parameters: {'alfa': 0.016742994479921818}. Best is trial 10 with value: 28737467240982.426.\n",
      "[I 2024-02-27 15:15:41,196] Trial 25 finished with value: 43727875719197.586 and parameters: {'alfa': 0.02997747353764747}. Best is trial 10 with value: 28737467240982.426.\n",
      "[I 2024-02-27 15:15:41,427] Trial 26 finished with value: 33492124844801.668 and parameters: {'alfa': 0.014811594633420435}. Best is trial 10 with value: 28737467240982.426.\n",
      "[I 2024-02-27 15:15:41,720] Trial 27 finished with value: 36806288308192.95 and parameters: {'alfa': 0.018809270001899952}. Best is trial 10 with value: 28737467240982.426.\n",
      "[I 2024-02-27 15:15:41,991] Trial 28 finished with value: 47209485922539.46 and parameters: {'alfa': 0.03795014170888048}. Best is trial 10 with value: 28737467240982.426.\n",
      "[I 2024-02-27 15:15:42,307] Trial 29 finished with value: 28727852915477.426 and parameters: {'alfa': 0.010008433000440659}. Best is trial 29 with value: 28727852915477.426.\n",
      "[I 2024-02-27 15:15:42,646] Trial 30 finished with value: 33940868596444.312 and parameters: {'alfa': 0.01531024937198364}. Best is trial 29 with value: 28727852915477.426.\n",
      "[I 2024-02-27 15:15:43,061] Trial 31 finished with value: 29000666514723.062 and parameters: {'alfa': 0.010265456333151079}. Best is trial 29 with value: 28727852915477.426.\n",
      "[I 2024-02-27 15:15:43,412] Trial 32 finished with value: 28927204978859.543 and parameters: {'alfa': 0.010188451697111054}. Best is trial 29 with value: 28727852915477.426.\n",
      "[I 2024-02-27 15:15:43,762] Trial 33 finished with value: 32397909150909.492 and parameters: {'alfa': 0.013621883642963978}. Best is trial 29 with value: 28727852915477.426.\n",
      "[I 2024-02-27 15:15:44,076] Trial 34 finished with value: 38613959713115.42 and parameters: {'alfa': 0.02129094446713517}. Best is trial 29 with value: 28727852915477.426.\n",
      "[I 2024-02-27 15:15:44,411] Trial 35 finished with value: 31900270737534.258 and parameters: {'alfa': 0.013104280171904974}. Best is trial 29 with value: 28727852915477.426.\n",
      "[I 2024-02-27 15:15:44,763] Trial 36 finished with value: 32731053981037.055 and parameters: {'alfa': 0.013989026047689666}. Best is trial 29 with value: 28727852915477.426.\n",
      "[I 2024-02-27 15:15:44,976] Trial 37 finished with value: 60447946634716.82 and parameters: {'alfa': 0.11533494193586698}. Best is trial 29 with value: 28727852915477.426.\n",
      "[I 2024-02-27 15:15:45,448] Trial 38 finished with value: 39802720322469.0 and parameters: {'alfa': 0.023060924011594226}. Best is trial 29 with value: 28727852915477.426.\n",
      "[I 2024-02-27 15:15:45,804] Trial 39 finished with value: 28862785454514.242 and parameters: {'alfa': 0.010126190288286239}. Best is trial 29 with value: 28727852915477.426.\n",
      "[I 2024-02-27 15:15:46,075] Trial 40 finished with value: 37078900432807.77 and parameters: {'alfa': 0.01916447448769837}. Best is trial 29 with value: 28727852915477.426.\n",
      "[I 2024-02-27 15:15:46,396] Trial 41 finished with value: 31632421930564.266 and parameters: {'alfa': 0.012831016840551764}. Best is trial 29 with value: 28727852915477.426.\n",
      "[I 2024-02-27 15:15:46,726] Trial 42 finished with value: 29022800867504.07 and parameters: {'alfa': 0.010287736571224254}. Best is trial 29 with value: 28727852915477.426.\n",
      "[I 2024-02-27 15:15:47,026] Trial 43 finished with value: 32078894902641.48 and parameters: {'alfa': 0.013292773021880455}. Best is trial 29 with value: 28727852915477.426.\n",
      "[I 2024-02-27 15:15:47,325] Trial 44 finished with value: 34066977216047.39 and parameters: {'alfa': 0.015459232084940978}. Best is trial 29 with value: 28727852915477.426.\n",
      "[I 2024-02-27 15:15:47,608] Trial 45 finished with value: 30526724185379.86 and parameters: {'alfa': 0.011715611054935631}. Best is trial 29 with value: 28727852915477.426.\n",
      "[I 2024-02-27 15:15:47,954] Trial 46 finished with value: 28955935771582.48 and parameters: {'alfa': 0.01021890311231385}. Best is trial 29 with value: 28727852915477.426.\n",
      "[I 2024-02-27 15:15:48,257] Trial 47 finished with value: 36676689596642.11 and parameters: {'alfa': 0.018645053612374844}. Best is trial 29 with value: 28727852915477.426.\n",
      "[I 2024-02-27 15:15:48,544] Trial 48 finished with value: 31447982580829.734 and parameters: {'alfa': 0.012643411749724364}. Best is trial 29 with value: 28727852915477.426.\n",
      "[I 2024-02-27 15:15:48,819] Trial 49 finished with value: 40693927171852.84 and parameters: {'alfa': 0.024491307343105558}. Best is trial 29 with value: 28727852915477.426.\n",
      "[I 2024-02-27 15:15:49,117] Trial 50 finished with value: 32948585761065.88 and parameters: {'alfa': 0.01421823091675143}. Best is trial 29 with value: 28727852915477.426.\n",
      "[I 2024-02-27 15:15:49,400] Trial 51 finished with value: 29503546556076.566 and parameters: {'alfa': 0.010743798453399471}. Best is trial 29 with value: 28727852915477.426.\n",
      "[I 2024-02-27 15:15:49,660] Trial 52 finished with value: 28994193993616.5 and parameters: {'alfa': 0.010258846844833627}. Best is trial 29 with value: 28727852915477.426.\n",
      "[I 2024-02-27 15:15:49,896] Trial 53 finished with value: 31339653429613.547 and parameters: {'alfa': 0.012532992079237781}. Best is trial 29 with value: 28727852915477.426.\n",
      "[I 2024-02-27 15:15:50,129] Trial 54 finished with value: 34095126863506.34 and parameters: {'alfa': 0.01549221171275878}. Best is trial 29 with value: 28727852915477.426.\n",
      "[I 2024-02-27 15:15:50,406] Trial 55 finished with value: 28936574108744.023 and parameters: {'alfa': 0.010198347656573193}. Best is trial 29 with value: 28727852915477.426.\n",
      "[I 2024-02-27 15:15:50,702] Trial 56 finished with value: 37664754602023.4 and parameters: {'alfa': 0.019952106412379593}. Best is trial 29 with value: 28727852915477.426.\n",
      "[I 2024-02-27 15:15:50,971] Trial 57 finished with value: 30665711756327.086 and parameters: {'alfa': 0.01186318839974101}. Best is trial 29 with value: 28727852915477.426.\n",
      "[I 2024-02-27 15:15:51,241] Trial 58 finished with value: 35411876227643.53 and parameters: {'alfa': 0.01703829606757498}. Best is trial 29 with value: 28727852915477.426.\n",
      "[I 2024-02-27 15:15:51,489] Trial 59 finished with value: 31041478257529.52 and parameters: {'alfa': 0.01223052702028994}. Best is trial 29 with value: 28727852915477.426.\n",
      "[I 2024-02-27 15:15:51,756] Trial 60 finished with value: 42048472213757.51 and parameters: {'alfa': 0.026806197123305255}. Best is trial 29 with value: 28727852915477.426.\n",
      "[I 2024-02-27 15:15:52,196] Trial 61 finished with value: 29126758558736.227 and parameters: {'alfa': 0.010388251429039798}. Best is trial 29 with value: 28727852915477.426.\n",
      "[I 2024-02-27 15:15:52,470] Trial 62 finished with value: 28777157135624.79 and parameters: {'alfa': 0.010045756010641966}. Best is trial 29 with value: 28727852915477.426.\n",
      "[I 2024-02-27 15:15:52,695] Trial 63 finished with value: 34403008648757.09 and parameters: {'alfa': 0.01584716693305999}. Best is trial 29 with value: 28727852915477.426.\n",
      "[I 2024-02-27 15:15:52,923] Trial 64 finished with value: 31260637250512.28 and parameters: {'alfa': 0.012452050470980502}. Best is trial 29 with value: 28727852915477.426.\n",
      "[I 2024-02-27 15:15:53,176] Trial 65 finished with value: 35601085721407.82 and parameters: {'alfa': 0.01727700102083994}. Best is trial 29 with value: 28727852915477.426.\n",
      "[I 2024-02-27 15:15:53,446] Trial 66 finished with value: 33127451094824.086 and parameters: {'alfa': 0.014422711507382831}. Best is trial 29 with value: 28727852915477.426.\n",
      "[I 2024-02-27 15:15:53,672] Trial 67 finished with value: 38450713255798.31 and parameters: {'alfa': 0.02106467584573276}. Best is trial 29 with value: 28727852915477.426.\n",
      "[I 2024-02-27 15:15:53,921] Trial 68 finished with value: 30605915638365.65 and parameters: {'alfa': 0.011803030263899053}. Best is trial 29 with value: 28727852915477.426.\n",
      "[I 2024-02-27 15:15:54,170] Trial 69 finished with value: 32980086008604.387 and parameters: {'alfa': 0.01425287626864735}. Best is trial 29 with value: 28727852915477.426.\n",
      "[I 2024-02-27 15:15:54,437] Trial 70 finished with value: 30381808795877.77 and parameters: {'alfa': 0.011581034523396592}. Best is trial 29 with value: 28727852915477.426.\n",
      "[I 2024-02-27 15:15:54,768] Trial 71 finished with value: 29173333475052.625 and parameters: {'alfa': 0.010432351988299822}. Best is trial 29 with value: 28727852915477.426.\n",
      "[I 2024-02-27 15:15:55,125] Trial 72 finished with value: 29011460296176.816 and parameters: {'alfa': 0.010276380966412195}. Best is trial 29 with value: 28727852915477.426.\n",
      "[I 2024-02-27 15:15:55,421] Trial 73 finished with value: 30459324648872.793 and parameters: {'alfa': 0.011660047805409404}. Best is trial 29 with value: 28727852915477.426.\n",
      "[I 2024-02-27 15:15:55,703] Trial 74 finished with value: 28819501367163.805 and parameters: {'alfa': 0.010078404950556041}. Best is trial 29 with value: 28727852915477.426.\n",
      "[I 2024-02-27 15:15:55,959] Trial 75 finished with value: 33161598549936.223 and parameters: {'alfa': 0.014458754921092373}. Best is trial 29 with value: 28727852915477.426.\n",
      "[I 2024-02-27 15:15:56,188] Trial 76 finished with value: 35520253362451.64 and parameters: {'alfa': 0.01717322814738796}. Best is trial 29 with value: 28727852915477.426.\n",
      "[I 2024-02-27 15:15:56,496] Trial 77 finished with value: 32363711420039.598 and parameters: {'alfa': 0.01358907017317935}. Best is trial 29 with value: 28727852915477.426.\n",
      "[I 2024-02-27 15:15:56,806] Trial 78 finished with value: 30211022481781.15 and parameters: {'alfa': 0.01141237402997773}. Best is trial 29 with value: 28727852915477.426.\n",
      "[I 2024-02-27 15:15:57,112] Trial 79 finished with value: 28820685252291.754 and parameters: {'alfa': 0.01007934577759566}. Best is trial 29 with value: 28727852915477.426.\n",
      "[I 2024-02-27 15:15:57,403] Trial 80 finished with value: 36812794733750.99 and parameters: {'alfa': 0.01881765085488009}. Best is trial 29 with value: 28727852915477.426.\n",
      "[I 2024-02-27 15:15:57,728] Trial 81 finished with value: 31250027070883.36 and parameters: {'alfa': 0.01244141171761127}. Best is trial 29 with value: 28727852915477.426.\n",
      "[I 2024-02-27 15:15:57,976] Trial 82 finished with value: 28804765294619.074 and parameters: {'alfa': 0.010066826280673812}. Best is trial 29 with value: 28727852915477.426.\n",
      "[I 2024-02-27 15:15:58,227] Trial 83 finished with value: 28723317002808.95 and parameters: {'alfa': 0.010005031899044529}. Best is trial 83 with value: 28723317002808.95.\n",
      "[I 2024-02-27 15:15:58,523] Trial 84 finished with value: 30247927387704.02 and parameters: {'alfa': 0.011448697398574077}. Best is trial 83 with value: 28723317002808.95.\n",
      "[I 2024-02-27 15:15:58,866] Trial 85 finished with value: 32302605577835.133 and parameters: {'alfa': 0.013527691745257163}. Best is trial 83 with value: 28723317002808.95.\n",
      "[I 2024-02-27 15:15:59,137] Trial 86 finished with value: 33760337331809.52 and parameters: {'alfa': 0.015098585227044846}. Best is trial 83 with value: 28723317002808.95.\n",
      "[I 2024-02-27 15:15:59,473] Trial 87 finished with value: 31756116245327.824 and parameters: {'alfa': 0.012959307858120018}. Best is trial 83 with value: 28723317002808.95.\n",
      "[I 2024-02-27 15:15:59,821] Trial 88 finished with value: 30191244605775.184 and parameters: {'alfa': 0.011392961354923164}. Best is trial 83 with value: 28723317002808.95.\n",
      "[I 2024-02-27 15:16:00,135] Trial 89 finished with value: 28782112840019.562 and parameters: {'alfa': 0.010049493010698943}. Best is trial 83 with value: 28723317002808.95.\n",
      "[I 2024-02-27 15:16:00,506] Trial 90 finished with value: 34717290089658.227 and parameters: {'alfa': 0.016205621571612802}. Best is trial 83 with value: 28723317002808.95.\n",
      "[I 2024-02-27 15:16:00,821] Trial 91 finished with value: 28901776438005.766 and parameters: {'alfa': 0.010162382401011628}. Best is trial 83 with value: 28723317002808.95.\n",
      "[I 2024-02-27 15:16:01,076] Trial 92 finished with value: 30102865400228.242 and parameters: {'alfa': 0.011306765890424174}. Best is trial 83 with value: 28723317002808.95.\n",
      "[I 2024-02-27 15:16:01,316] Trial 93 finished with value: 32282506249270.277 and parameters: {'alfa': 0.01350679171447483}. Best is trial 83 with value: 28723317002808.95.\n",
      "[I 2024-02-27 15:16:01,624] Trial 94 finished with value: 28776592052913.8 and parameters: {'alfa': 0.010045330583958288}. Best is trial 83 with value: 28723317002808.95.\n",
      "[I 2024-02-27 15:16:01,871] Trial 95 finished with value: 28777965017480.074 and parameters: {'alfa': 0.010046364439915339}. Best is trial 83 with value: 28723317002808.95.\n",
      "[I 2024-02-27 15:16:02,129] Trial 96 finished with value: 31475312341689.68 and parameters: {'alfa': 0.012671024656885166}. Best is trial 83 with value: 28723317002808.95.\n",
      "[I 2024-02-27 15:16:02,346] Trial 97 finished with value: 30379536171679.57 and parameters: {'alfa': 0.011578786430995134}. Best is trial 83 with value: 28723317002808.95.\n",
      "[I 2024-02-27 15:16:02,620] Trial 98 finished with value: 34350685031709.79 and parameters: {'alfa': 0.015787811214895232}. Best is trial 83 with value: 28723317002808.95.\n",
      "[I 2024-02-27 15:16:02,877] Trial 99 finished with value: 28759050769092.13 and parameters: {'alfa': 0.010032134484785007}. Best is trial 83 with value: 28723317002808.95.\n"
     ]
    },
    {
     "data": {
      "text/plain": [
       "{'alfa': 0.010005031899044529}"
      ]
     },
     "execution_count": 167,
     "metadata": {},
     "output_type": "execute_result"
    }
   ],
   "source": [
    "import optuna\n",
    "from sklearn.linear_model import GammaRegressor\n",
    "from sklearn import metrics\n",
    "from sklearn.model_selection import train_test_split\n",
    "\n",
    "def objective(trial):\n",
    "\n",
    "    # Invoke suggest methods of a Trial object to generate hyperparameters.\n",
    "\n",
    "    alfa = trial.suggest_float('alfa', 1e-2, 1, log=True)\n",
    "\n",
    "    gamma = GammaRegressor(alpha = alfa)\n",
    "\n",
    "    gamma.fit(X_train, y_train)\n",
    "    y_pred = gamma.predict(X_test)\n",
    "\n",
    "    mse = metrics.mean_squared_error(y_test, y_pred)\n",
    "\n",
    "    return mse  # An objective value linked with the Trial object.\n",
    "\n",
    "studyGamma = optuna.create_study(direction='minimize')  # Create a new study.\n",
    "studyGamma.optimize(objective, n_trials=100)  # Invoke optimization of the objective function.\n",
    "\n",
    "studyGamma.best_params"
   ]
  },
  {
   "cell_type": "markdown",
   "metadata": {},
   "source": [
    "# Predicciones finales:"
   ]
  },
  {
   "cell_type": "code",
   "execution_count": 185,
   "metadata": {},
   "outputs": [],
   "source": [
    "data = pd.read_excel(\"Cartera_TarifarVF.xlsx\")\n",
    "datos = data.drop(columns=[\"ASEGURADO\"])"
   ]
  },
  {
   "cell_type": "code",
   "execution_count": 186,
   "metadata": {},
   "outputs": [],
   "source": [
    "test = datos.copy()\n",
    "\n",
    "dummies = pd.get_dummies(test['RANGO ETARIO'])\n",
    "test = pd.concat([test, dummies], axis=1)\n",
    "test.drop('RANGO ETARIO', axis=1, inplace=True)\n",
    "\n",
    "dummies = pd.get_dummies(test['Género'], prefix='Genero')\n",
    "test = pd.concat([test, dummies], axis=1)\n",
    "test.drop('Género', axis=1, inplace=True)\n",
    "test.drop('Genero_Femenino', axis=1, inplace=True)\n",
    "\n",
    "dummies = pd.get_dummies(test['CIUDAD'])\n",
    "test = pd.concat([test, dummies], axis=1)\n",
    "test.drop('CIUDAD', axis=1, inplace=True)\n",
    "\n",
    "dummies = pd.get_dummies(test['OCUPACIÓN'])\n",
    "test = pd.concat([test, dummies], axis=1)\n",
    "test.drop('OCUPACIÓN', axis=1, inplace=True)\n",
    "\n",
    "dummies = pd.get_dummies(test['COBERTURA'])\n",
    "test = pd.concat([test, dummies], axis=1)\n",
    "test.drop('COBERTURA', axis=1, inplace=True)"
   ]
  },
  {
   "cell_type": "code",
   "execution_count": 239,
   "metadata": {},
   "outputs": [],
   "source": [
    "from sklearn.linear_model import GammaRegressor\n",
    "from sklearn.linear_model import PoissonRegressor\n",
    "from  sklearn.model_selection import train_test_split\n",
    "from sklearn.metrics import mean_squared_error\n",
    "\n",
    "X2 = entre_modelo2_reg[entre_modelo2_reg.columns[1:]]\n",
    "y2 = entre_modelo2_reg[entre_modelo2_reg.columns[0]]\n",
    "\n",
    "\n",
    "\n",
    "reg_gamma = GammaRegressor(alpha = 0.3)\n",
    "\n",
    "reg_gamma.fit(X2, y2)\n",
    "\n",
    "predicciones_severidad = reg_gamma.predict(test)\n",
    "severidad = predicciones_severidad.tolist()\n",
    "\n",
    "severidad = np.array(severidad)\n",
    "#severidad_int = severidad.astype(int)\n",
    "\n",
    "\n",
    "X1 = entre_modelo1_reg[entre_modelo1_reg.columns[1:]]\n",
    "y1 = entre_modelo1_reg[entre_modelo1_reg.columns[0]]\n",
    "\n",
    "reg_pois = PoissonRegressor(alpha =0.0022)\n",
    "\n",
    "reg_pois.fit(X1, y1)\n",
    "\n",
    "predicciones_frecuencia = reg_pois.predict(test)\n",
    "frecuencia = predicciones_frecuencia.tolist()\n",
    "frecuencia = np.array(frecuencia)\n",
    "#frecuencia_int = frecuencia.astype(int)"
   ]
  },
  {
   "cell_type": "code",
   "execution_count": 240,
   "metadata": {},
   "outputs": [],
   "source": [
    "data[\"Severidad\"] = severidad\n",
    "data[\"Frecuencia\"] = frecuencia"
   ]
  }
 ],
 "metadata": {
  "kernelspec": {
   "display_name": "Python 3",
   "language": "python",
   "name": "python3"
  },
  "language_info": {
   "codemirror_mode": {
    "name": "ipython",
    "version": 3
   },
   "file_extension": ".py",
   "mimetype": "text/x-python",
   "name": "python",
   "nbconvert_exporter": "python",
   "pygments_lexer": "ipython3",
   "version": "3.11.2"
  }
 },
 "nbformat": 4,
 "nbformat_minor": 2
}
